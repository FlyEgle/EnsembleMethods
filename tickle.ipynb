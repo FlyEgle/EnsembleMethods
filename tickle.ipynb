{
 "cells": [
  {
   "cell_type": "code",
   "execution_count": 1,
   "metadata": {},
   "outputs": [],
   "source": [
    "import numpy as np"
   ]
  },
  {
   "cell_type": "code",
   "execution_count": 2,
   "metadata": {},
   "outputs": [
    {
     "data": {
      "text/plain": [
       "[array([[-0.25226951,  0.9895061 ],\n",
       "        [-0.58114877, -1.47801852],\n",
       "        [-0.84357399, -0.45740123],\n",
       "        [ 1.34952879, -0.469522  ],\n",
       "        [-1.35668461,  0.95023779]]), array([[-0.37398498,  1.29669309],\n",
       "        [-1.18781673, -1.0314076 ],\n",
       "        [-1.75819918,  0.47860635],\n",
       "        [ 0.19687949,  2.11005737],\n",
       "        [ 0.585211  , -0.60700576]]), array([[ 0.1462724 , -0.84368793],\n",
       "        [-1.29200257,  0.97430001],\n",
       "        [-1.10993536,  1.13873343],\n",
       "        [ 0.369667  , -2.6242121 ],\n",
       "        [-0.87526586, -1.09174382]])]"
      ]
     },
     "execution_count": 2,
     "metadata": {},
     "output_type": "execute_result"
    }
   ],
   "source": [
    "probs = [np.random.randn(5, 2) for _ in range(3)]\n",
    "probs"
   ]
  },
  {
   "cell_type": "code",
   "execution_count": 14,
   "metadata": {},
   "outputs": [
    {
     "data": {
      "text/plain": [
       "(3, 5, 2)"
      ]
     },
     "execution_count": 14,
     "metadata": {},
     "output_type": "execute_result"
    }
   ],
   "source": [
    "ax1 = np.asarray(probs)\n",
    "ax1.shape"
   ]
  },
  {
   "cell_type": "code",
   "execution_count": 5,
   "metadata": {},
   "outputs": [
    {
     "data": {
      "text/plain": [
       "(3, 5, 2)"
      ]
     },
     "execution_count": 5,
     "metadata": {},
     "output_type": "execute_result"
    }
   ],
   "source": [
    "ax2 = np.array(probs)\n",
    "ax2.shape"
   ]
  },
  {
   "cell_type": "code",
   "execution_count": 19,
   "metadata": {},
   "outputs": [],
   "source": [
    "ay1 = np.concatenate(ax1, axis=1).shape"
   ]
  },
  {
   "cell_type": "code",
   "execution_count": 20,
   "metadata": {},
   "outputs": [],
   "source": [
    "ay2 = np.concatenate([x[0] for x in np.split(ax1, 3)], axis=1).shape"
   ]
  },
  {
   "cell_type": "code",
   "execution_count": 21,
   "metadata": {},
   "outputs": [],
   "source": [
    "np.testing.assert_allclose(ay1, ay2)"
   ]
  },
  {
   "cell_type": "markdown",
   "metadata": {},
   "source": [
    "`numpy.concatenate((a1, a2, ...), axis=0, out=None)`\n",
    "\n",
    "It seems that `np.concatenate` first split arr and squeeze when `arr` is array instead of `sequence of array_like`"
   ]
  },
  {
   "cell_type": "code",
   "execution_count": null,
   "metadata": {},
   "outputs": [],
   "source": []
  }
 ],
 "metadata": {
  "kernelspec": {
   "display_name": "Python 3",
   "language": "python",
   "name": "python3"
  },
  "language_info": {
   "codemirror_mode": {
    "name": "ipython",
    "version": 3
   },
   "file_extension": ".py",
   "mimetype": "text/x-python",
   "name": "python",
   "nbconvert_exporter": "python",
   "pygments_lexer": "ipython3",
   "version": "3.6.6"
  }
 },
 "nbformat": 4,
 "nbformat_minor": 2
}
